{
 "cells": [
  {
   "attachments": {},
   "cell_type": "markdown",
   "metadata": {},
   "source": [
    "1. What is an algorithm?\n",
    "> **A series of steps to solve a problem at hand**\n",
    "2. Variable names may not start with certain characters - name two.\n",
    "> a. **Number**\n",
    "> b. **Any character other than an underscore(_)**\n",
    "3. What is a Semantic error?\n",
    "> **The code is grammatically correct but doesn't make any sense; it does not produce the expected results** \n",
    "4. What is the #1 rule of coding / debugging?\n",
    "> **Complexity is the enemy of efficiency.**\n",
    "5. List 5 Python reserved words.\n",
    "> a. **FALSE**\n",
    "> b. **TRUE**\n",
    "> c. **pass**\n",
    "> d. **None**\n",
    "> e. **else**"
   ]
  },
  {
   "cell_type": "code",
   "execution_count": 1,
   "metadata": {},
   "outputs": [
    {
     "name": "stdout",
     "output_type": "stream",
     "text": [
      "\n",
      "My name is Trey.\n",
      "Peanut butter is my all-time favorite food.\n",
      "My dream job would be to travel the world using data to make it a better place.\n",
      "\n",
      "17\n",
      "e\n",
      "ing Data Analytics \n",
      "Learning Data Analytics and Python is great!\n",
      "Hi my name is Trey, I am 68 inches tall and 33 years old today.\n",
      "33\n"
     ]
    }
   ],
   "source": [
    "a = \"\"\"\n",
    "My name is Trey.\n",
    "Peanut butter is my all-time favorite food.\n",
    "My dream job would be to travel the world using data to make it a better place.\n",
    "\"\"\"\n",
    "print(a)\n",
    "\n",
    "b = \"baseball\"\n",
    "c = str('Baseball is great')\n",
    "d = 221\n",
    "e = [\"glove\", \"bat\", \"jersey\", \"stadium\", \"innings\"]\n",
    "f = True\n",
    "\n",
    "print(len(c))\n",
    "print(c[3])\n",
    "\n",
    "savvy = str(\"Learning Data Analytics and Python is Awesome!\")\n",
    "print(savvy[5:24])\n",
    "print(savvy.replace(\"Awesome\", \"great\"))\n",
    "\n",
    "name = \"Trey\"\n",
    "age = \"33\"\n",
    "length = \"68 inches\"\n",
    "\n",
    "miniBio = \"Hi my name is \" + name + \", I am \" + length + \" tall and \" + age + \" years old today.\"\n",
    "print(miniBio)\n",
    "\n",
    "g = float(age)\n",
    "print(age)\n",
    "\n",
    "\n"
   ]
  },
  {
   "cell_type": "code",
   "execution_count": 36,
   "metadata": {},
   "outputs": [
    {
     "name": "stdout",
     "output_type": "stream",
     "text": [
      "['glove', 'bat', 'jersey', 'stadium', 'home team']\n",
      "['glove', 'bat', 'jersey', 'stadium', 'home team', 'strikeout', 'foul ball']\n",
      "7\n",
      "['jersey', 'stadium']\n",
      "['jersey', 'stadium']\n",
      "['glove', 'bat', 'jersey', 'stadium', 'home team', 'strikeout', 'foul ball', 'jersey', 'stadium']\n",
      "['87', '64', '58', '21', '1']\n",
      "['87', '64', '58', '21', '1']\n",
      "List4 ['jersey', 'stadium', '87', '64', '58', '21', '1']\n"
     ]
    }
   ],
   "source": [
    "e = [\"glove\", \"bat\", \"jersey\", \"stadium\", \"innings\"]\n",
    "\n",
    "e[4] = \"home team\"\n",
    "print(e)\n",
    "\n",
    "e.append(\"strikeout\")\n",
    "e.append(\"foul ball\")\n",
    "print(e)\n",
    "print(len(e))\n",
    "\n",
    "print(e[2:4])\n",
    "h = ['jersey', 'stadium']\n",
    "print(h)\n",
    "\n",
    "e.extend(h)\n",
    "print(e)\n",
    "\n",
    "simList = [\"1\", \"64\", \"21\", \"58\", \"87\"]\n",
    "simList.sort(reverse=True)\n",
    "print(simList)\n",
    "\n",
    "i = simList.copy()\n",
    "print(i)\n",
    "\n",
    "j = h + i\n",
    "print(\"List4\", j)\n"
   ]
  },
  {
   "cell_type": "code",
   "execution_count": 2,
   "metadata": {},
   "outputs": [
    {
     "name": "stdout",
     "output_type": "stream",
     "text": [
      "(1, 21, 58, 64, 87)\n",
      "(1, 21, 58, 64, 87, 1, 21, 58, 64, 87, 1, 21, 58, 64, 87)\n",
      "(1, 21, 58, 64, 87, 1, 21, 58, 64, 87, 1, 21, 58, 64, 87)\n",
      "21\n",
      "['87', '87', '87', '64', '64', '64', '58', '58', '58', '21', '21', '21', '1', '1', '1']\n",
      "('87', '87', '87', '64', '64', '64', '58', '58', '58', '21', '21', '21', '1', '1', '1')\n",
      "('87', '87', '87', '64', '64', '64', '58', '58', '58', '21', '21', '21', '1', '1', '1')\n",
      "('64', '64', '58', '58')\n",
      "('64', '64', '58', '58')\n",
      "\\Tuple packing ...\n",
      "Number1= 64 Number2= 64 Number3= 58 Number4= 58\n",
      "(50,)\n",
      "('87', '87', '87', '64', '64', '64', '58', '58', '58', '21', '21', '21', '1', '1', '1', '64', '64', '58', '58')\n"
     ]
    }
   ],
   "source": [
    "tup1 = (1, 21, 58, 64, 87)\n",
    "print(tup1)\n",
    "\n",
    "timesTuple = tup1 * 3\n",
    "print(timesTuple)\n",
    "\n",
    "tup2 = (1, 21, 58, 64, 87, 1, 21, 58, 64, 87, 1, 21, 58, 64, 87)\n",
    "print(tup2)\n",
    "\n",
    "print(tup2[11])\n",
    "\n",
    "tuplelist = [\"1\", \"21\", \"58\", \"64\", \"87\", \"1\", \"21\", \"58\", \"64\", \"87\", \"1\", \"21\", \"58\", \"64\", \"87\"]\n",
    "tuplelist.sort(reverse=True)\n",
    "print(tuplelist)\n",
    "\n",
    "tup2 = '87', '87', '87', '64', '64', '64', '58', '58', '58', '21', '21', '21', '1', '1', '1'\n",
    "print(tup2)\n",
    "\n",
    "sorted(tup2)\n",
    "print(tup2)\n",
    "\n",
    "print(tup2 [4:8])\n",
    "\n",
    "tup3 = ('64', '64', '58', '58')\n",
    "print(tup3)\n",
    "\n",
    "(Number1, Number2, Number3, Number4) = tup3\n",
    "\n",
    "print(\"\\Tuple packing ...\")\n",
    "print(\"Number1=\", 64, \"Number2=\", 64, \"Number3=\", 58, \"Number4=\", 58)\n",
    "\n",
    "tup4 = (50,)\n",
    "print(tup4)\n",
    "\n",
    "tup5 = tup2 + tup3\n",
    "print(tup5)\n",
    "\n"
   ]
  },
  {
   "cell_type": "code",
   "execution_count": 41,
   "metadata": {},
   "outputs": [
    {
     "name": "stdout",
     "output_type": "stream",
     "text": [
      "{'chocolate', 'Cadillac', ('apple', 'strawberry', 'blueberry'), 'starbursts', 'sour patch'}\n",
      "{'coffee mug', 'cell phone', 'sour patch', 'chocolate', 'starbursts', 'Cadillac', 'wine', ('apple', 'strawberry', 'blueberry')}\n",
      "{'cell phone', 'wine'}\n",
      "set()\n",
      "{'coffee mug', 'cell phone', 'sour patch', 'Cadillac', 'wine', ('apple', 'strawberry', 'blueberry')}\n"
     ]
    }
   ],
   "source": [
    "set1 = {\"chocolate\", \"starbursts\", \"sour patch\"}\n",
    "fruits = (\"apple\", \"strawberry\", \"blueberry\")\n",
    "set1.add(fruits)\n",
    "set1.add(\"Cadillac\")\n",
    "print(set1)\n",
    "\n",
    "set2 = {\"coffee mug\", \"wine\", \"cell phone\"}\n",
    "set3 = set1.union(set2)\n",
    "print(set3)\n",
    "\n",
    "set2.pop()\n",
    "print(set2)\n",
    "\n",
    "set1.clear()\n",
    "print(set1)\n",
    "\n",
    "set3.discard(\"chocolate\")\n",
    "set3.remove(\"starbursts\")\n",
    "print(set3)\n",
    "\n",
    "\n"
   ]
  },
  {
   "cell_type": "code",
   "execution_count": 73,
   "metadata": {},
   "outputs": [
    {
     "name": "stdout",
     "output_type": "stream",
     "text": [
      "['stick', 'puck', 'goal']\n",
      "{'baseball': 'Trey', 'football': '11', 'hockey': ['stick', 'puck', 'goal'], 'basketball': False, 'MMA': '155.5'}\n",
      "{'baseball': 'Trey', 'football': '11', 'hockey': ['stick', 'puck', 'goal'], 'basketball': False, 'MMA': '155.5', 'color': 'blue', 'random': ['computer', 'tv', 'headphones']}\n",
      "dict_keys(['baseball', 'football', 'hockey', 'basketball', 'MMA', 'color', 'random'])\n",
      "dict_values(['Trey', '11', ['stick', 'puck', 'goal'], False, '155.5', 'blue', ['computer', 'tv', 'headphones']])\n",
      "{'baseball': 'Trey', 'football': '11', 'hockey': ['stick', 'puck', 'goal'], 'basketball': False, 'MMA': '155.5', 'color': 'blue', 'random': ['computer', 'tv', 'headphones']}\n",
      "{'baseball': 'Trey', 'football': '11', 'hockey': ['stick', 'puck', 'goal'], 'MMA': '155.5', 'color': 'blue', 'random': ['computer', 'tv', 'headphones']}\n",
      "{}\n"
     ]
    }
   ],
   "source": [
    "dict1 = {\n",
    "    \"baseball\": \"glove\",\n",
    "    \"football\": \"11\",\n",
    "    \"hockey\": [\"stick\", \"puck\", \"goal\"],\n",
    "    \"basketball\": False,\n",
    "    \"MMA\": \"155.5\"\n",
    "}\n",
    "print(dict1[\"hockey\"])\n",
    "dict1.update({'baseball': 'Trey'})\n",
    "print(dict1)\n",
    "dict1.update({'color': 'blue'})\n",
    "dict1.update(random = [\"computer\", \"tv\", \"headphones\"])\n",
    "print(dict1)\n",
    "print(dict1.keys())\n",
    "print(dict1.values())\n",
    "dict2 = dict1.copy()\n",
    "print(dict2)\n",
    "dict2.pop(\"basketball\")\n",
    "print(dict2)\n",
    "dict2.clear()\n",
    "print(dict2)"
   ]
  },
  {
   "cell_type": "code",
   "execution_count": null,
   "metadata": {},
   "outputs": [],
   "source": []
  }
 ],
 "metadata": {
  "kernelspec": {
   "display_name": "Python 3",
   "language": "python",
   "name": "python3"
  },
  "language_info": {
   "codemirror_mode": {
    "name": "ipython",
    "version": 3
   },
   "file_extension": ".py",
   "mimetype": "text/x-python",
   "name": "python",
   "nbconvert_exporter": "python",
   "pygments_lexer": "ipython3",
   "version": "3.11.3"
  },
  "orig_nbformat": 4
 },
 "nbformat": 4,
 "nbformat_minor": 2
}

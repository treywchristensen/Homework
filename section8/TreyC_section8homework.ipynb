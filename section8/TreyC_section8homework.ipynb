{
 "cells": [
  {
   "cell_type": "code",
   "execution_count": 1,
   "metadata": {},
   "outputs": [
    {
     "name": "stdout",
     "output_type": "stream",
     "text": [
      "{'coord': {'lon': -90.5133, 'lat': 14.6407}, 'weather': [{'id': 201, 'main': 'Thunderstorm', 'description': 'thunderstorm with rain', 'icon': '11n'}, {'id': 501, 'main': 'Rain', 'description': 'moderate rain', 'icon': '10n'}], 'base': 'stations', 'main': {'temp': 292.06, 'feels_like': 292.62, 'temp_min': 292.06, 'temp_max': 292.67, 'pressure': 1020, 'humidity': 100}, 'visibility': 5000, 'wind': {'speed': 2.06, 'deg': 180}, 'rain': {'1h': 2.99}, 'clouds': {'all': 100}, 'dt': 1687318943, 'sys': {'type': 1, 'id': 7079, 'country': 'GT', 'sunrise': 1687260828, 'sunset': 1687307601}, 'timezone': -21600, 'id': 3598132, 'name': 'Guatemala City', 'cod': 200}\n",
      "\n",
      "I am currently in the historic Guatemala City.\n",
      "Unfortunately, there has been a lot of thuderstorms with a humidity rate of 100.\n",
      "We have experienced an accumulation of 2.99 inches in the last hour.\n"
     ]
    }
   ],
   "source": [
    "import requests\n",
    "from dotenv import load_dotenv\n",
    "import pandas as pd\n",
    "import json\n",
    "import os\n",
    "\n",
    "# Load environment variables from .env file\n",
    "load_dotenv()\n",
    "\n",
    "# Get the API key from environment variables\n",
    "api_key = os.getenv('API_KEY')\n",
    "\n",
    "# Send a GET request to the API\n",
    "response=requests.get('http://api.openweathermap.org/data/2.5/weather?q=Guatemala City&appid=' + api_key)\n",
    "\n",
    "# Parse the JSON response\n",
    "weather_data = json.loads(response.text)\n",
    "\n",
    "print(weather_data)\n",
    "\n",
    "# Extracting Information\n",
    "city = weather_data['name']\n",
    "wet = weather_data['main']\n",
    "rain = weather_data['rain']\n",
    "\n",
    "print(f\"\\nI am currently in the historic {city}.\")\n",
    "print(f\"Unfortunately, there has been a lot of thuderstorms with a humidity rate of {wet['humidity']}.\")\n",
    "print(f\"We have experienced an accumulation of {rain['1h']} inches in the last hour.\")"
   ]
  },
  {
   "cell_type": "code",
   "execution_count": 6,
   "metadata": {},
   "outputs": [
    {
     "name": "stdout",
     "output_type": "stream",
     "text": [
      "{'coord': {'lon': -90.5133, 'lat': 14.6407}, 'weather': [{'id': 201, 'main': 'Thunderstorm', 'description': 'thunderstorm with rain', 'icon': '11n'}, {'id': 501, 'main': 'Rain', 'description': 'moderate rain', 'icon': '10n'}], 'base': 'stations', 'main': {'temp': 292.06, 'feels_like': 292.62, 'temp_min': 292.06, 'temp_max': 292.67, 'pressure': 1020, 'humidity': 100}, 'visibility': 5000, 'wind': {'speed': 2.06, 'deg': 180}, 'rain': {'1h': 2.99}, 'clouds': {'all': 100}, 'dt': 1687319466, 'sys': {'type': 1, 'id': 7079, 'country': 'GT', 'sunrise': 1687260828, 'sunset': 1687307601}, 'timezone': -21600, 'id': 3598132, 'name': 'Guatemala City', 'cod': 200}\n"
     ]
    }
   ],
   "source": [
    "import requests\n",
    "from dotenv import load_dotenv\n",
    "import pandas as pd\n",
    "import json\n",
    "import os\n",
    "\n",
    "# Load environment variables from .env file\n",
    "load_dotenv()\n",
    "\n",
    "# Get the API key from environment variables\n",
    "api_key = os.getenv('API_KEY')\n",
    "\n",
    "try:\n",
    "    # Send a GET request to the API\n",
    "    response=requests.get('http://api.openweathermap.org/data/2.5/weather?q=Guatemala City&appid=' + api_key)\n",
    "\n",
    "    # Check the response status code\n",
    "    if response.status_code == 200:\n",
    "        # Request was successful, proceed with parsing the response\n",
    "        data = response.json()\n",
    "        # Process the data further\n",
    "        print(data)\n",
    "    else:\n",
    "        # Request failed, handle the error\n",
    "        print(f\"Request failed with status code {response.status_code}\")\n",
    "except requests.exceptions.RequestException as e:\n",
    "    # Handle connection errors\n",
    "    print(\"Connection error occurred:\", e)"
   ]
  },
  {
   "cell_type": "code",
   "execution_count": null,
   "metadata": {},
   "outputs": [],
   "source": []
  }
 ],
 "metadata": {
  "kernelspec": {
   "display_name": "Python 3",
   "language": "python",
   "name": "python3"
  },
  "language_info": {
   "codemirror_mode": {
    "name": "ipython",
    "version": 3
   },
   "file_extension": ".py",
   "mimetype": "text/x-python",
   "name": "python",
   "nbconvert_exporter": "python",
   "pygments_lexer": "ipython3",
   "version": "3.11.3"
  },
  "orig_nbformat": 4
 },
 "nbformat": 4,
 "nbformat_minor": 2
}

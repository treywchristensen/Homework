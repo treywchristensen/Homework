{
 "cells": [
  {
   "attachments": {},
   "cell_type": "markdown",
   "metadata": {},
   "source": [
    "1. What does Pandas stand for?\n",
    "> **Pandas comes from 'Panel Data' - It represents both 'Panel Data' and 'Python Data Analysis'**\n",
    "2. What are the 2 collections used in Pandas?\n",
    "> * **Series**\n",
    "> * **DataFrame**\n",
    "3. Name 4 things Pandas can do for us.\n",
    "> * **Data Cleansing**\n",
    "> * **Data Normalization**\n",
    "> * **Statistical Analysis**\n",
    "> * **Merges and Joins**\n",
    "4. To permanently sort a DataFrame, which keyword should one use with the df.sort() method?\n",
    "> **inplace**\n",
    "5. What is a CSV?\n",
    "> **A CSV is a comma separated file - It is a simple way to store big data sets and contains plain text.**\n",
    "6. When cleaning data, what values do we not like in our data?\n",
    "> **Missing or Unknown**"
   ]
  },
  {
   "cell_type": "code",
   "execution_count": 5,
   "metadata": {},
   "outputs": [
    {
     "name": "stdout",
     "output_type": "stream",
     "text": [
      "[ 0.  4.  8. 12. 16. 20.]\n",
      "[ 0.  4.  8. 12. 16. 20.]\n"
     ]
    }
   ],
   "source": [
    "# 7. Import NumPy, use one of the NumPy methods and create an array with a shape of ... \n",
    "# (2, 3, 2). You can use the reshape method -- .reshape()\n",
    "\n",
    "import numpy as np\n",
    "\n",
    "arrayA = np.array([2, 3, 2])\n",
    "\n",
    "# 8. Use NumPy .linspace() to create an array with 6 linearly spaced values between 0 and 20\n",
    "\n",
    "arrayB = np.linspace(0, 20, num=6)\n",
    "print(arrayB)\n",
    "\n",
    "# 9. Make a Deep Copy of the above array\n",
    "\n",
    "import copy\n",
    "arrayC = copy.deepcopy(arrayB)\n",
    "print(arrayC)\n"
   ]
  },
  {
   "cell_type": "code",
   "execution_count": 14,
   "metadata": {},
   "outputs": [
    {
     "name": "stdout",
     "output_type": "stream",
     "text": [
      "[[25 16]\n",
      " [11  2]\n",
      " [13  4]\n",
      " [ 7 81]\n",
      " [ 5  6]\n",
      " [11 12]]\n"
     ]
    }
   ],
   "source": [
    "# 11. Concatenate these 3 arrays into a new array named 'newArray'...\n",
    "\n",
    "arrayD = np.array([[25, 16]])\n",
    "arrayE = np.array([[11, 2], [13, 4]])\n",
    "arrayF = np.array([[7, 81], [5, 6], [11, 12]])\n",
    "\n",
    "newArray = np.concatenate((arrayD, arrayE, arrayF), axis=0)\n",
    "print(newArray)\n",
    "\n"
   ]
  },
  {
   "cell_type": "code",
   "execution_count": 12,
   "metadata": {},
   "outputs": [
    {
     "name": "stdout",
     "output_type": "stream",
     "text": [
      "[[16 25]\n",
      " [ 2 11]\n",
      " [ 4 13]\n",
      " [ 7 81]\n",
      " [ 5  6]\n",
      " [11 12]]\n"
     ]
    }
   ],
   "source": [
    "# 12. Sort 'newArray' in order into 'sortedArray'\n",
    "\n",
    "sortedArray = np.sort(newArray)\n",
    "print(sortedArray)"
   ]
  },
  {
   "cell_type": "code",
   "execution_count": 13,
   "metadata": {},
   "outputs": [
    {
     "name": "stdout",
     "output_type": "stream",
     "text": [
      "[[[16 25  2]\n",
      "  [11  4 13]]\n",
      "\n",
      " [[ 7 81  5]\n",
      "  [ 6 11 12]]]\n"
     ]
    }
   ],
   "source": [
    "# 13. Reshape the 'sortedArray' array, into a new array called 'reshapedArray', \n",
    "# so it has 2 dimensions with a size of 2, 3.\n",
    "\n",
    "reshapedArray = sortedArray.reshape(2,2,3)\n",
    "print(reshapedArray)"
   ]
  },
  {
   "cell_type": "code",
   "execution_count": 21,
   "metadata": {},
   "outputs": [
    {
     "name": "stdout",
     "output_type": "stream",
     "text": [
      "16 25 2\n",
      "11 4 13\n",
      "7 81 5\n",
      "6 11 12\n"
     ]
    }
   ],
   "source": [
    "# 14. Unpack the array tuples from the above 'reshapedArray' into 4 well named variables. Print the 4 variables.\n",
    "\n",
    "unpack = ([[16, 25, 2],\n",
    "  [11, 4, 13],\n",
    "\n",
    " [7, 81, 5],\n",
    "  [6, 11, 12]])\n",
    "\n",
    "[[a, b, c],\n",
    "  [d, e, f],\n",
    "\n",
    " [g, h, i],\n",
    "  [j, k, l]] = unpack\n",
    "\n",
    "print(a, b, c)\n",
    "print(d, e, f)\n",
    "print(g, h, i)\n",
    "print(j, k, l)\n"
   ]
  },
  {
   "cell_type": "code",
   "execution_count": 22,
   "metadata": {},
   "outputs": [
    {
     "name": "stdout",
     "output_type": "stream",
     "text": [
      "[10 11 12 13 14 15 16 17 20 21 22 23 24 25 26 27  0  1  2  3  4  5  6  7]\n"
     ]
    }
   ],
   "source": [
    "# 15. Combined and sort the following arrays into one called 'comboArray' ...\n",
    "# Combined\n",
    "one = ([10, 11, 12, 13, 14, 15, 16, 17])\n",
    "two = ([20, 21, 22, 23, 24, 25, 26, 27])\n",
    "three = ([ 0, 1, 2, 3, 4, 5, 6, 7])\n",
    "\n",
    "comboArray = np.concatenate((one, two, three), axis=0)\n",
    "print(comboArray)\n"
   ]
  },
  {
   "cell_type": "code",
   "execution_count": 23,
   "metadata": {},
   "outputs": [
    {
     "name": "stdout",
     "output_type": "stream",
     "text": [
      "[ 0  1  2  3  4  5  6  7 10 11 12 13 14 15 16 17 20 21 22 23 24 25 26 27]\n"
     ]
    }
   ],
   "source": [
    "# 15 - Sorted\n",
    "print(np.sort(comboArray))"
   ]
  },
  {
   "cell_type": "code",
   "execution_count": 26,
   "metadata": {},
   "outputs": [
    {
     "name": "stdout",
     "output_type": "stream",
     "text": [
      "1\n"
     ]
    }
   ],
   "source": [
    "# 16. Take 'comboArray' and perform the following slicing activities:\n",
    "\n",
    "sec1 = np.array([[0, 1, 2, 3, 4, 5, 6, 7, 10, 11, 12, 13, 14, 15, 16, 17, 20, 21, 22, 23, 24, 25, 26, 27]])\n",
    "print(sec1[0, 1])"
   ]
  },
  {
   "cell_type": "code",
   "execution_count": 27,
   "metadata": {},
   "outputs": [
    {
     "name": "stdout",
     "output_type": "stream",
     "text": [
      "[ 2  3  4  5  6  7 10 11 12 13 14 15 16 17 20 21 22 23 24 25 26 27]\n"
     ]
    }
   ],
   "source": [
    "sec2 = np.array([[0, 1, 2, 3, 4, 5, 6, 7, 10, 11, 12, 13, 14, 15, 16, 17, 20, 21, 22, 23, 24, 25, 26, 27]])\n",
    "print(sec2[0, 2:])"
   ]
  },
  {
   "cell_type": "code",
   "execution_count": 28,
   "metadata": {},
   "outputs": [
    {
     "name": "stdout",
     "output_type": "stream",
     "text": [
      "[ 3  4  5  6  7 10 11 12 13 14]\n"
     ]
    }
   ],
   "source": [
    "sec3 = np.array([[0, 1, 2, 3, 4, 5, 6, 7, 10, 11, 12, 13, 14, 15, 16, 17, 20, 21, 22, 23, 24, 25, 26, 27]])\n",
    "print(sec3[0, 3:13])"
   ]
  },
  {
   "cell_type": "code",
   "execution_count": 31,
   "metadata": {},
   "outputs": [
    {
     "name": "stdout",
     "output_type": "stream",
     "text": [
      "[22 23 24 25 26 27]\n"
     ]
    }
   ],
   "source": [
    "sec4 = np.array([[0, 1, 2, 3, 4, 5, 6, 7, 10, 11, 12, 13, 14, 15, 16, 17, 20, 21, 22, 23, 24, 25, 26, 27]])\n",
    "print(sec4[0, -6:])"
   ]
  },
  {
   "cell_type": "code",
   "execution_count": 34,
   "metadata": {},
   "outputs": [
    {
     "name": "stdout",
     "output_type": "stream",
     "text": [
      "[ 0  1  2  3  4  5  6  7 10 11 12 13 14 15]\n"
     ]
    }
   ],
   "source": [
    "sec5 = np.array([[0, 1, 2, 3, 4, 5, 6, 7, 10, 11, 12, 13, 14, 15, 16, 17, 20, 21, 22, 23, 24, 25, 26, 27]])\n",
    "print(sec5[0, -24:-10])"
   ]
  },
  {
   "cell_type": "code",
   "execution_count": 35,
   "metadata": {},
   "outputs": [
    {
     "name": "stdout",
     "output_type": "stream",
     "text": [
      "[20 21 22 23 24 25 26 27]\n"
     ]
    }
   ],
   "source": [
    "sec6 = np.array([[0, 1, 2, 3, 4, 5, 6, 7, 10, 11, 12, 13, 14, 15, 16, 17, 20, 21, 22, 23, 24, 25, 26, 27]])\n",
    "print(sec6[0, -8:])"
   ]
  },
  {
   "cell_type": "code",
   "execution_count": 40,
   "metadata": {},
   "outputs": [
    {
     "name": "stdout",
     "output_type": "stream",
     "text": [
      "[ 0  5 12 17 24]\n"
     ]
    }
   ],
   "source": [
    "sec7 = np.array([[0, 1, 2, 3, 4, 5, 6, 7, 10, 11, 12, 13, 14, 15, 16, 17, 20, 21, 22, 23, 24, 25, 26, 27]])\n",
    "print(sec7[0, :-1: 5])"
   ]
  },
  {
   "cell_type": "code",
   "execution_count": 44,
   "metadata": {},
   "outputs": [
    {
     "name": "stdout",
     "output_type": "stream",
     "text": [
      "  Ingredients  Quantity   Unit\n",
      "0       Flour         4   cups\n",
      "1        Milk         1    cup\n",
      "2        Eggs         2  large\n",
      "3        Spam         1    can\n"
     ]
    }
   ],
   "source": [
    "# 20. Using Series, create a DataFrame that looks like this:\n",
    "import pandas as pd\n",
    "\n",
    "# Create Series\n",
    "ingredients = pd.Series([\"Flour\",\"Milk\",\"Eggs\",\"Spam\"])\n",
    "quantity = pd.Series([4,1,2,1])\n",
    "unit = pd.Series([\"cups\", \"cup\", \"large\", \"can\"])\n",
    "\n",
    "# Make into DataFrame\n",
    "df = pd.concat([ingredients, quantity, unit], axis=1)\n",
    "\n",
    "# Add Column Names\n",
    "ingredients = pd.Series([\"Flour\",\"Milk\",\"Eggs\",\"Spam\"], name='Ingredients')\n",
    "quantity = pd.Series([4,1,2,1], name='Quantity')\n",
    "unit = pd.Series([\"cups\", \"cup\", \"large\", \"can\"], name='Unit')\n",
    "df = pd.concat([ingredients, quantity, unit], axis=1)\n",
    "print(df)"
   ]
  },
  {
   "cell_type": "code",
   "execution_count": 45,
   "metadata": {},
   "outputs": [
    {
     "name": "stdout",
     "output_type": "stream",
     "text": [
      "      Name  Height Qualification  address  Age        Pets           sport\n",
      "0      Jai     5.1           Msc    Delhi   21         Dog           Darts\n",
      "1  janusha     6.2            MA     Doha   23       Bunny      Basketball\n",
      "2   Gaurav     5.1           Msc  Chennai   24  Chinchilla  PaddleBoarding\n",
      "3     Anuj     5.2           Msc   Dakhar   21      Parrot         Cricket\n"
     ]
    }
   ],
   "source": [
    "# 21. Take this data and creat a DataFrame named studentData\n",
    "\n",
    "data = {\n",
    "    'Name': ['Jai', 'janusha', 'Gaurav', 'Anuj'],\n",
    "    'Height': [5.1, 6.2, 5.1, 5.2],\n",
    "    'Qualification': ['Msc', 'MA', 'Msc', 'Msc'],\n",
    "    'address': ['Delhi', 'Doha', 'Chennai', 'Dakhar'],\n",
    "    'Age': [21, 23, 24, 21],\n",
    "    'Pets': ['Dog', 'Bunny', 'Chinchilla', 'Parrot'],\n",
    "    'sport': ['Darts', 'Basketball', 'PaddleBoarding', 'Cricket']\n",
    "}\n",
    "\n",
    "studentData = pd.DataFrame(data)\n",
    "print(studentData)"
   ]
  },
  {
   "cell_type": "code",
   "execution_count": 47,
   "metadata": {},
   "outputs": [
    {
     "name": "stdout",
     "output_type": "stream",
     "text": [
      "      Name  Height Qualification  address  Age        Pets           sport   \n",
      "0      Jai     5.1           Msc    Delhi   21         Dog           Darts  \\\n",
      "1  janusha     6.2            MA     Doha   23       Bunny      Basketball   \n",
      "2   Gaurav     5.1           Msc  Chennai   24  Chinchilla  PaddleBoarding   \n",
      "3     Anuj     5.2           Msc   Dakhar   21      Parrot         Cricket   \n",
      "\n",
      "        Deserts  \n",
      "0     ice cream  \n",
      "1  Cashew Fudge  \n",
      "2       waffels  \n",
      "3  Carrot Halwa  \n"
     ]
    }
   ],
   "source": [
    "# 22. Add a new column to the DataFrame with the following deserts: [\"ice cream\", \"Cashew Fudge\", \"waffels\", \"Carrot Halwa\"]\n",
    "\n",
    "deserts = [\"ice cream\", \"Cashew Fudge\", \"waffels\", \"Carrot Halwa\"]\n",
    "studentData[\"Deserts\"] = deserts\n",
    "print(studentData)"
   ]
  },
  {
   "cell_type": "code",
   "execution_count": 48,
   "metadata": {},
   "outputs": [
    {
     "name": "stdout",
     "output_type": "stream",
     "text": [
      "      Name  Height Qualification  address  Age        Pets           sport   \n",
      "3     Anuj     5.2           Msc   Dakhar   21      Parrot         Cricket  \\\n",
      "2   Gaurav     5.1           Msc  Chennai   24  Chinchilla  PaddleBoarding   \n",
      "0      Jai     5.1           Msc    Delhi   21         Dog           Darts   \n",
      "1  janusha     6.2            MA     Doha   23       Bunny      Basketball   \n",
      "\n",
      "        Deserts  \n",
      "3  Carrot Halwa  \n",
      "2       waffels  \n",
      "0     ice cream  \n",
      "1  Cashew Fudge  \n"
     ]
    }
   ],
   "source": [
    "# 23. Sort the 'studentData' DataFrame in Ascending order -- Sorting by column 'Name' and then \"address\"\n",
    "# Sort by Name\n",
    "\n",
    "studentData.sort_values(by = ['Name'], inplace = True)\n",
    "print(studentData)"
   ]
  },
  {
   "cell_type": "code",
   "execution_count": 49,
   "metadata": {},
   "outputs": [
    {
     "name": "stdout",
     "output_type": "stream",
     "text": [
      "      Name  Height Qualification  address  Age        Pets           sport   \n",
      "2   Gaurav     5.1           Msc  Chennai   24  Chinchilla  PaddleBoarding  \\\n",
      "3     Anuj     5.2           Msc   Dakhar   21      Parrot         Cricket   \n",
      "0      Jai     5.1           Msc    Delhi   21         Dog           Darts   \n",
      "1  janusha     6.2            MA     Doha   23       Bunny      Basketball   \n",
      "\n",
      "        Deserts  \n",
      "2       waffels  \n",
      "3  Carrot Halwa  \n",
      "0     ice cream  \n",
      "1  Cashew Fudge  \n"
     ]
    }
   ],
   "source": [
    "# 23 - Sort by address\n",
    "\n",
    "studentData.sort_values(by = ['address'], inplace = True)\n",
    "print(studentData)"
   ]
  },
  {
   "cell_type": "code",
   "execution_count": 50,
   "metadata": {},
   "outputs": [],
   "source": [
    "# 24. Save this DataFrame here below to disc as a .CSV file with the name cows_and_goats.csv:\n",
    "\n",
    "df = pd.DataFrame({'Cows': [12, 20], 'Goats': [22, 19]}, index=['Year 1', 'Year 2'])\n",
    "df.to_csv('cows_and_goats.csv')\n"
   ]
  },
  {
   "cell_type": "code",
   "execution_count": 52,
   "metadata": {},
   "outputs": [],
   "source": [
    "# 25. (A) Using Pandas, make your own .CSV file with data on vegetables and save it. (B) Using Pandas, \n",
    "# make a change to your CSV file, and save a copy with a different name.\n",
    "\n",
    "veggies= pd.DataFrame({'Sweet Corn Sold': [100, 250, 700, 300], 'Beans Sold': [500, 450, 345, 680], 'Squash Sold': [789, 418, 765, 100]}, index=['Quarter 1', 'Quarter 2', 'Quarter 3', 'Quarter 4'])\n",
    "veggies.to_csv('Vegetable_Quarterly_Sales.csv')"
   ]
  },
  {
   "cell_type": "code",
   "execution_count": 59,
   "metadata": {},
   "outputs": [],
   "source": [
    "# Make a change to CSV\n",
    "\n",
    "cucumbers = [150, 300, 450, 600]\n",
    "veggiesextended = veggies.assign(Cucumbers_Sold=cucumbers)\n",
    "veggiesextended.to_csv('Updated_Vegetable_Quarterly_Sales.csv')\n"
   ]
  },
  {
   "cell_type": "code",
   "execution_count": null,
   "metadata": {},
   "outputs": [],
   "source": []
  }
 ],
 "metadata": {
  "kernelspec": {
   "display_name": "Python 3",
   "language": "python",
   "name": "python3"
  },
  "language_info": {
   "codemirror_mode": {
    "name": "ipython",
    "version": 3
   },
   "file_extension": ".py",
   "mimetype": "text/x-python",
   "name": "python",
   "nbconvert_exporter": "python",
   "pygments_lexer": "ipython3",
   "version": "3.11.3"
  },
  "orig_nbformat": 4
 },
 "nbformat": 4,
 "nbformat_minor": 2
}
